{
 "cells": [
  {
   "cell_type": "markdown",
   "metadata": {},
   "source": [
    "# DAY 0 MORNING SESSION"
   ]
  },
  {
   "cell_type": "markdown",
   "metadata": {},
   "source": [
    "# INTRODUCTION\n",
    "1) Python provides a higher level abstraction\n",
    "\n",
    "2) It is a dynamic programming language -> Takes a different view on Variables\n",
    "\ta) Variables are created on the fly, and if we dont want them, we can remove them!\n",
    "\n",
    "3) Multi-paradigm\n",
    "\ta) Procedural -> present as functions -> reusability and modularity\n",
    "\tb) Object Oriented -> present as objects -> promotes cohesiveness\n",
    "\tc) Functional Programming -> recent days -> presents as functions which operate on immutable data -> functional calculus or probabilistic calculus\n",
    "\td) Python lets the programmer decide when to use what\n",
    "\te) Underneath, its a 100% OO Language\n",
    "\tf) C focuses on efficiency closest to the hardware -> safety and security, it leaves it to the programmer\n",
    "\tg) Java knows its limits -> it throws an error\n",
    "\t\n",
    "\t\n",
    "\tPYTHON - No extra verbosity, high level, easier for the programmer since Python doesn't consider system limitations\n",
    "\t\n",
    "\n",
    "# FEATURES\n",
    "\n",
    "1) Python complies to an intermediate byte-code whcih would then be either interpreted or JIT compiled based on implementation.\n",
    "\n",
    "2) It is fully object oriented - print(\"Hello World\")\n",
    "\ta) print is the name of the object and the () is an operator\n",
    "\tb) Anything within quotes creates an object automatically\n",
    "\tc) Hence objects interact with each other\n",
    "\td) But it doesnt require the programmer to understand it\n",
    "\t\n",
    "3) Fastest learning-curve, readable and extensible and portable."
   ]
  },
  {
   "cell_type": "markdown",
   "metadata": {},
   "source": [
    "# RUNNING PYTHON \n",
    "\n",
    "1) Python is organised as modules\n",
    "\n",
    "2) Definitions can be of different types -> assignment defn, function defn, class defn, module defn\n",
    "\n",
    "3) Modular program structure\n"
   ]
  },
  {
   "cell_type": "markdown",
   "metadata": {},
   "source": [
    "# MODULAR PROGRAM STRUCTURE\n",
    "\n",
    "The definitions and other common program functions are saved in a separate module. Then we have a boilerplate code where we call in the necessary functions and call these functions from the main module in this boilerplate code. "
   ]
  },
  {
   "cell_type": "markdown",
   "metadata": {},
   "source": [
    "# THE PRINT FUNCTION"
   ]
  },
  {
   "cell_type": "code",
   "execution_count": 51,
   "metadata": {},
   "outputs": [
    {
     "name": "stdout",
     "output_type": "stream",
     "text": [
      "Hello string\n",
      "Another string\n"
     ]
    }
   ],
   "source": [
    "print(\"Hello string\")\n",
    "print(\"Another string\")"
   ]
  },
  {
   "cell_type": "code",
   "execution_count": 52,
   "metadata": {
    "scrolled": true
   },
   "outputs": [
    {
     "name": "stdout",
     "output_type": "stream",
     "text": [
      "String ending with comma,Another string\n"
     ]
    }
   ],
   "source": [
    "print(\"String ending with comma\", end = ',')\n",
    "print(\"Another string\")"
   ]
  },
  {
   "cell_type": "code",
   "execution_count": 53,
   "metadata": {},
   "outputs": [
    {
     "name": "stdout",
     "output_type": "stream",
     "text": [
      "HariHaran\n"
     ]
    }
   ],
   "source": [
    "print(\"Hari\",\"Haran\",sep=\"\")"
   ]
  },
  {
   "cell_type": "markdown",
   "metadata": {},
   "source": [
    "1) The default end is newline and default separator is single space.\n",
    "2) "
   ]
  },
  {
   "cell_type": "markdown",
   "metadata": {},
   "source": [
    "### Writing to a file"
   ]
  },
  {
   "cell_type": "code",
   "execution_count": 54,
   "metadata": {},
   "outputs": [
    {
     "name": "stdout",
     "output_type": "stream",
     "text": [
      "End of data\n"
     ]
    }
   ],
   "source": [
    "with open(\"testfile.dat\",\"w\") as outfile:\n",
    "    print(\"this is line 1\", file = outfile)\n",
    "    print(\"this is line 2\", file = outfile)\n",
    "print(\"End of data\")"
   ]
  },
  {
   "cell_type": "code",
   "execution_count": 55,
   "metadata": {},
   "outputs": [],
   "source": [
    "%pycat testfile.dat"
   ]
  },
  {
   "cell_type": "code",
   "execution_count": 56,
   "metadata": {},
   "outputs": [
    {
     "name": "stdout",
     "output_type": "stream",
     "text": [
      "Hello\n",
      "None\n"
     ]
    }
   ],
   "source": [
    "#The functions can be used in the right hand side also\n",
    "a = print(\"Hello\")\n",
    "print(a)"
   ]
  },
  {
   "cell_type": "markdown",
   "metadata": {},
   "source": [
    "# ASSIGNMENT\n",
    "\n"
   ]
  },
  {
   "cell_type": "code",
   "execution_count": 57,
   "metadata": {},
   "outputs": [],
   "source": [
    "import __main__"
   ]
  },
  {
   "cell_type": "code",
   "execution_count": 58,
   "metadata": {},
   "outputs": [
    {
     "name": "stdout",
     "output_type": "stream",
     "text": [
      "10\n",
      "10\n",
      "140717065606240 0x7ffb3eb59460\n"
     ]
    }
   ],
   "source": [
    "a = 10 #Simple assignment\n",
    "print(a)\n",
    "print(__main__.__dict__['a'])\n",
    "\n",
    "\n",
    "#Id is the location of an object\n",
    "print(id(a),hex(id(a)))"
   ]
  },
  {
   "cell_type": "code",
   "execution_count": 59,
   "metadata": {},
   "outputs": [
    {
     "name": "stdout",
     "output_type": "stream",
     "text": [
      "2322952433200 2322952433136 2322952433200\n"
     ]
    }
   ],
   "source": [
    "a = 5000\n",
    "b = 5000\n",
    "c = a\n",
    "\n",
    "print(id(a), id(b), id(c))"
   ]
  },
  {
   "cell_type": "code",
   "execution_count": 60,
   "metadata": {},
   "outputs": [
    {
     "name": "stdout",
     "output_type": "stream",
     "text": [
      "2322952433040 2322952433136 2322952433200\n"
     ]
    }
   ],
   "source": [
    "a += 1\n",
    "\n",
    "print(id(a), id(b), id(c))"
   ]
  },
  {
   "cell_type": "markdown",
   "metadata": {},
   "source": [
    "1) All numbers in Python are immutable. Their value cannot be changed.\n"
   ]
  },
  {
   "cell_type": "code",
   "execution_count": 61,
   "metadata": {},
   "outputs": [
    {
     "name": "stdout",
     "output_type": "stream",
     "text": [
      "(10, 20, 30)\n",
      "10\n",
      "20\n",
      "30\n"
     ]
    }
   ],
   "source": [
    "a = 10, 20, 30\n",
    "print(a)\n",
    "\n",
    "b,c,d = a\n",
    "print(b,c,d,sep=\"\\n\")"
   ]
  },
  {
   "cell_type": "code",
   "execution_count": 62,
   "metadata": {},
   "outputs": [
    {
     "data": {
      "text/plain": [
       "'When you give expressions, only the last one is evaluated'"
      ]
     },
     "execution_count": 62,
     "metadata": {},
     "output_type": "execute_result"
    }
   ],
   "source": [
    "#Type of an variable can be found out by using type function\n",
    "type(a)\n",
    "\n",
    "#length can be found out by len\n",
    "len(a)\n",
    "\n",
    "\"When you give expressions, only the last one is evaluated\""
   ]
  },
  {
   "cell_type": "code",
   "execution_count": 63,
   "metadata": {},
   "outputs": [],
   "source": [
    "#chain rule\n",
    "\n",
    "a = b = c = 10\n",
    "\n",
    "#The last = separates the left hand side and right hand side\n",
    "#The RHS is evaluated and the value is propagated to all the components of LHS"
   ]
  },
  {
   "cell_type": "code",
   "execution_count": 64,
   "metadata": {},
   "outputs": [],
   "source": [
    "a = a + 1 #before python 2.0\n",
    "a +=1     #python 2.0"
   ]
  },
  {
   "cell_type": "markdown",
   "metadata": {},
   "source": [
    "# DELETION"
   ]
  },
  {
   "cell_type": "markdown",
   "metadata": {},
   "source": [
    "##### Monkey-patching\n",
    "\n",
    "We can remove the unnecessary parts and keep only the ones we want.\n",
    "\n",
    "Example: *del os.unlink*\n",
    "\n",
    "##### Duck-typing"
   ]
  },
  {
   "cell_type": "code",
   "execution_count": 65,
   "metadata": {},
   "outputs": [
    {
     "name": "stdout",
     "output_type": "stream",
     "text": [
      "[20, 30]\n"
     ]
    }
   ],
   "source": [
    "a = [10,20,30]\n",
    "del a[0]\n",
    "print(a)"
   ]
  },
  {
   "cell_type": "markdown",
   "metadata": {},
   "source": [
    "# DAY - 0 AFTERNOON SESSION"
   ]
  },
  {
   "cell_type": "markdown",
   "metadata": {},
   "source": [
    "# MODULES\n",
    "\n",
    "1) Modules once loaded are not loaded again.\n",
    "\n",
    "2) Python maintains a module cache. \n",
    "\n",
    "3) *sys.module.keys* keeps track of the modules added to the program\n",
    "\n",
    "4) Python Run Time loads some modules into the memory. The main function is a part of this. \n",
    "\n",
    "5) Modules are loaded only once in the lifetime of a program.\n",
    "\n",
    "6) We can have aliases for the modules we import\n",
    "\n",
    "7) When we try to import something, it will search the directories defined in *sys.path* .  You can insert a new path using sys.path.insert( index, path)\n",
    "\n",
    "8) Modules can only be loaded as a whole and not as a part. But if you do *from hello import square*, you can't reference hello in your program.\n",
    "\n",
    "9) Four types of modules in Python\n",
    "    Built-in modules, Py modules, Extension modules\n",
    "    \n"
   ]
  },
  {
   "cell_type": "markdown",
   "metadata": {},
   "source": [
    "##### Assert and Raise\n",
    "\n",
    "Assert : It is mostly used implicitly\n",
    "\n",
    "Raise  :  shown below"
   ]
  },
  {
   "cell_type": "code",
   "execution_count": 66,
   "metadata": {},
   "outputs": [],
   "source": [
    "def square(x):\n",
    "    if x<0:\n",
    "        raise ValueError(\"Number cannot be negative...\")\n",
    "    else:\n",
    "        return x*x"
   ]
  },
  {
   "cell_type": "code",
   "execution_count": 67,
   "metadata": {},
   "outputs": [
    {
     "ename": "ValueError",
     "evalue": "Number cannot be negative...",
     "output_type": "error",
     "traceback": [
      "\u001b[1;31m---------------------------------------------------------------------------\u001b[0m",
      "\u001b[1;31mValueError\u001b[0m                                Traceback (most recent call last)",
      "\u001b[1;32m<ipython-input-67-197e973d7d0a>\u001b[0m in \u001b[0;36m<module>\u001b[1;34m\u001b[0m\n\u001b[1;32m----> 1\u001b[1;33m \u001b[0msquare\u001b[0m\u001b[1;33m(\u001b[0m\u001b[1;33m-\u001b[0m\u001b[1;36m4\u001b[0m\u001b[1;33m)\u001b[0m\u001b[1;33m\u001b[0m\u001b[1;33m\u001b[0m\u001b[0m\n\u001b[0m",
      "\u001b[1;32m<ipython-input-66-6a50088899b8>\u001b[0m in \u001b[0;36msquare\u001b[1;34m(x)\u001b[0m\n\u001b[0;32m      1\u001b[0m \u001b[1;32mdef\u001b[0m \u001b[0msquare\u001b[0m\u001b[1;33m(\u001b[0m\u001b[0mx\u001b[0m\u001b[1;33m)\u001b[0m\u001b[1;33m:\u001b[0m\u001b[1;33m\u001b[0m\u001b[1;33m\u001b[0m\u001b[0m\n\u001b[0;32m      2\u001b[0m     \u001b[1;32mif\u001b[0m \u001b[0mx\u001b[0m\u001b[1;33m<\u001b[0m\u001b[1;36m0\u001b[0m\u001b[1;33m:\u001b[0m\u001b[1;33m\u001b[0m\u001b[1;33m\u001b[0m\u001b[0m\n\u001b[1;32m----> 3\u001b[1;33m         \u001b[1;32mraise\u001b[0m \u001b[0mValueError\u001b[0m\u001b[1;33m(\u001b[0m\u001b[1;34m\"Number cannot be negative...\"\u001b[0m\u001b[1;33m)\u001b[0m\u001b[1;33m\u001b[0m\u001b[1;33m\u001b[0m\u001b[0m\n\u001b[0m\u001b[0;32m      4\u001b[0m     \u001b[1;32melse\u001b[0m\u001b[1;33m:\u001b[0m\u001b[1;33m\u001b[0m\u001b[1;33m\u001b[0m\u001b[0m\n\u001b[0;32m      5\u001b[0m         \u001b[1;32mreturn\u001b[0m \u001b[0mx\u001b[0m\u001b[1;33m*\u001b[0m\u001b[0mx\u001b[0m\u001b[1;33m\u001b[0m\u001b[1;33m\u001b[0m\u001b[0m\n",
      "\u001b[1;31mValueError\u001b[0m: Number cannot be negative..."
     ]
    }
   ],
   "source": [
    "square(-4)"
   ]
  },
  {
   "cell_type": "markdown",
   "metadata": {},
   "source": [
    "Other types of Standard errors are Name Error, Index error.\n",
    "\n",
    "We can also create custom Exceptions."
   ]
  },
  {
   "cell_type": "code",
   "execution_count": 68,
   "metadata": {},
   "outputs": [],
   "source": [
    "class InvalidNumber(Exception):pass\n",
    "\n",
    "def square(x):\n",
    "    if x<0:\n",
    "        raise InvalidNumber(\"Number cannot be negative...\")\n",
    "    else:\n",
    "        return x*x"
   ]
  },
  {
   "cell_type": "code",
   "execution_count": 69,
   "metadata": {},
   "outputs": [
    {
     "ename": "InvalidNumber",
     "evalue": "Number cannot be negative...",
     "output_type": "error",
     "traceback": [
      "\u001b[1;31m---------------------------------------------------------------------------\u001b[0m",
      "\u001b[1;31mInvalidNumber\u001b[0m                             Traceback (most recent call last)",
      "\u001b[1;32m<ipython-input-69-197e973d7d0a>\u001b[0m in \u001b[0;36m<module>\u001b[1;34m\u001b[0m\n\u001b[1;32m----> 1\u001b[1;33m \u001b[0msquare\u001b[0m\u001b[1;33m(\u001b[0m\u001b[1;33m-\u001b[0m\u001b[1;36m4\u001b[0m\u001b[1;33m)\u001b[0m\u001b[1;33m\u001b[0m\u001b[1;33m\u001b[0m\u001b[0m\n\u001b[0m",
      "\u001b[1;32m<ipython-input-68-081a13b8d0ab>\u001b[0m in \u001b[0;36msquare\u001b[1;34m(x)\u001b[0m\n\u001b[0;32m      3\u001b[0m \u001b[1;32mdef\u001b[0m \u001b[0msquare\u001b[0m\u001b[1;33m(\u001b[0m\u001b[0mx\u001b[0m\u001b[1;33m)\u001b[0m\u001b[1;33m:\u001b[0m\u001b[1;33m\u001b[0m\u001b[1;33m\u001b[0m\u001b[0m\n\u001b[0;32m      4\u001b[0m     \u001b[1;32mif\u001b[0m \u001b[0mx\u001b[0m\u001b[1;33m<\u001b[0m\u001b[1;36m0\u001b[0m\u001b[1;33m:\u001b[0m\u001b[1;33m\u001b[0m\u001b[1;33m\u001b[0m\u001b[0m\n\u001b[1;32m----> 5\u001b[1;33m         \u001b[1;32mraise\u001b[0m \u001b[0mInvalidNumber\u001b[0m\u001b[1;33m(\u001b[0m\u001b[1;34m\"Number cannot be negative...\"\u001b[0m\u001b[1;33m)\u001b[0m\u001b[1;33m\u001b[0m\u001b[1;33m\u001b[0m\u001b[0m\n\u001b[0m\u001b[0;32m      6\u001b[0m     \u001b[1;32melse\u001b[0m\u001b[1;33m:\u001b[0m\u001b[1;33m\u001b[0m\u001b[1;33m\u001b[0m\u001b[0m\n\u001b[0;32m      7\u001b[0m         \u001b[1;32mreturn\u001b[0m \u001b[0mx\u001b[0m\u001b[1;33m*\u001b[0m\u001b[0mx\u001b[0m\u001b[1;33m\u001b[0m\u001b[1;33m\u001b[0m\u001b[0m\n",
      "\u001b[1;31mInvalidNumber\u001b[0m: Number cannot be negative..."
     ]
    }
   ],
   "source": [
    "square(-4)"
   ]
  },
  {
   "cell_type": "markdown",
   "metadata": {},
   "source": [
    "## PYTHON PROGRAMMING STYLE\n",
    "\n",
    "Follow the Pep 8 guidelines religiously - https://www.python.org/dev/peps/pep-0008/\n",
    "\n",
    "    a) Do not mix your tabs and spaces.\n",
    "    b) We dont use camel case. We use underscore separated words. Only classes are capitalized. Constants are also fully capitalized and they never change their value.\n",
    "    "
   ]
  },
  {
   "cell_type": "markdown",
   "metadata": {},
   "source": [
    "## BLOCK STATEMENTS AND CONDITIONS\n",
    "\n",
    "1) if, elif, else\n",
    "\n",
    "\n",
    "2) We use and, or, not\n",
    "\n",
    "\n",
    "3) False in Python \n",
    "    a) 0, 0.0, 0+0j, False, None\n",
    "    b) \"\", (), {}, [], set() - Empty collections are false"
   ]
  },
  {
   "cell_type": "code",
   "execution_count": 70,
   "metadata": {},
   "outputs": [
    {
     "name": "stdout",
     "output_type": "stream",
     "text": [
      "Enter room temperature 20\n",
      "The room is too cold!\n"
     ]
    }
   ],
   "source": [
    "temperature = int(input(\"Enter room temperature \"))\n",
    "if temperature < 25:\n",
    "    print(\"The room is too cold!\")\n",
    "else:\n",
    "    print(\"The room is too hot!\")"
   ]
  },
  {
   "cell_type": "markdown",
   "metadata": {},
   "source": [
    "The same code can be written as :"
   ]
  },
  {
   "cell_type": "code",
   "execution_count": 71,
   "metadata": {},
   "outputs": [
    {
     "name": "stdout",
     "output_type": "stream",
     "text": [
      "Enter room temperature 25\n",
      "The room is too hot!\n"
     ]
    }
   ],
   "source": [
    "temperature = int(input(\"Enter room temperature \"))\n",
    "print(\"The room is too\", \"cold!\" if temperature < 25 else \"hot!\")"
   ]
  },
  {
   "cell_type": "markdown",
   "metadata": {},
   "source": [
    "4) While has an Else clause.. but be careful since other noobs might mistake it\n",
    "\n",
    "5) break and continue can be used in loops only\n",
    "\n",
    "6) Btw take a printout of shortcuts and keep it in your cube"
   ]
  },
  {
   "cell_type": "code",
   "execution_count": 72,
   "metadata": {},
   "outputs": [
    {
     "name": "stdout",
     "output_type": "stream",
     "text": [
      "total computation is incomplete...\n"
     ]
    }
   ],
   "source": [
    "#for point 4 above\n",
    "\n",
    "a = [45,66,0,23]\n",
    "\n",
    "total = 0\n",
    "while a:\n",
    "    v = a.pop()\n",
    "    if v:\n",
    "        total += v\n",
    "    else:\n",
    "        print(\"total computation is incomplete...\")\n",
    "        break\n",
    "else: #Else for while\n",
    "    print(total)"
   ]
  },
  {
   "cell_type": "markdown",
   "metadata": {},
   "source": [
    "# COLLECTIONS"
   ]
  },
  {
   "cell_type": "code",
   "execution_count": 73,
   "metadata": {},
   "outputs": [
    {
     "name": "stdout",
     "output_type": "stream",
     "text": [
      "5\n",
      "4\n",
      "4\n"
     ]
    },
    {
     "ename": "TypeError",
     "evalue": "object of type 'int' has no len()",
     "output_type": "error",
     "traceback": [
      "\u001b[1;31m---------------------------------------------------------------------------\u001b[0m",
      "\u001b[1;31mTypeError\u001b[0m                                 Traceback (most recent call last)",
      "\u001b[1;32m<ipython-input-73-1f1e76419a36>\u001b[0m in \u001b[0;36m<module>\u001b[1;34m\u001b[0m\n\u001b[0;32m      7\u001b[0m \u001b[0mprint\u001b[0m\u001b[1;33m(\u001b[0m\u001b[0mlen\u001b[0m\u001b[1;33m(\u001b[0m\u001b[0mb\u001b[0m\u001b[1;33m)\u001b[0m\u001b[1;33m)\u001b[0m\u001b[1;33m\u001b[0m\u001b[1;33m\u001b[0m\u001b[0m\n\u001b[0;32m      8\u001b[0m \u001b[0mprint\u001b[0m\u001b[1;33m(\u001b[0m\u001b[0mlen\u001b[0m\u001b[1;33m(\u001b[0m\u001b[0mc\u001b[0m\u001b[1;33m)\u001b[0m\u001b[1;33m)\u001b[0m\u001b[1;33m\u001b[0m\u001b[1;33m\u001b[0m\u001b[0m\n\u001b[1;32m----> 9\u001b[1;33m \u001b[0mprint\u001b[0m\u001b[1;33m(\u001b[0m\u001b[0mlen\u001b[0m\u001b[1;33m(\u001b[0m\u001b[0md\u001b[0m\u001b[1;33m)\u001b[0m\u001b[1;33m)\u001b[0m\u001b[1;33m\u001b[0m\u001b[1;33m\u001b[0m\u001b[0m\n\u001b[0m\u001b[0;32m     10\u001b[0m \u001b[1;33m\u001b[0m\u001b[0m\n\u001b[0;32m     11\u001b[0m \u001b[1;31m#if it doesn't support len function, its not a collection\u001b[0m\u001b[1;33m\u001b[0m\u001b[1;33m\u001b[0m\u001b[1;33m\u001b[0m\u001b[0m\n",
      "\u001b[1;31mTypeError\u001b[0m: object of type 'int' has no len()"
     ]
    }
   ],
   "source": [
    "a = 'Hello'\n",
    "b = (10,20,30,40)\n",
    "c = [10,20,30,40]\n",
    "d = 5000\n",
    "\n",
    "print(len(a))\n",
    "print(len(b))\n",
    "print(len(c))\n",
    "print(len(d))\n",
    "\n",
    "#if it doesn't support len function, its not a collection"
   ]
  },
  {
   "cell_type": "markdown",
   "metadata": {},
   "source": [
    "A file is never read into memory. We just have a pointer to the point from which we are reading from the file."
   ]
  },
  {
   "cell_type": "markdown",
   "metadata": {},
   "source": [
    "### FILE OPERATIONS\n",
    "\n",
    "If we open a file, we must close it. This is true for all operating system resources."
   ]
  },
  {
   "cell_type": "code",
   "execution_count": 74,
   "metadata": {},
   "outputs": [
    {
     "ename": "FileNotFoundError",
     "evalue": "[Errno 2] No such file or directory: 'this.txt'",
     "output_type": "error",
     "traceback": [
      "\u001b[1;31m---------------------------------------------------------------------------\u001b[0m",
      "\u001b[1;31mFileNotFoundError\u001b[0m                         Traceback (most recent call last)",
      "\u001b[1;32m<ipython-input-74-99a48ec7b8ca>\u001b[0m in \u001b[0;36m<module>\u001b[1;34m\u001b[0m\n\u001b[1;32m----> 1\u001b[1;33m \u001b[0minfile\u001b[0m \u001b[1;33m=\u001b[0m \u001b[0mopen\u001b[0m\u001b[1;33m(\u001b[0m\u001b[1;34m\"this.txt\"\u001b[0m\u001b[1;33m)\u001b[0m\u001b[1;33m\u001b[0m\u001b[1;33m\u001b[0m\u001b[0m\n\u001b[0m\u001b[0;32m      2\u001b[0m \u001b[0mprint\u001b[0m\u001b[1;33m(\u001b[0m\u001b[0minfile\u001b[0m\u001b[1;33m,\u001b[0m \u001b[0mtype\u001b[0m\u001b[1;33m(\u001b[0m\u001b[0minfile\u001b[0m\u001b[1;33m)\u001b[0m\u001b[1;33m)\u001b[0m\u001b[1;33m\u001b[0m\u001b[1;33m\u001b[0m\u001b[0m\n\u001b[0;32m      3\u001b[0m \u001b[0mprint\u001b[0m\u001b[1;33m(\u001b[0m\u001b[0miter\u001b[0m\u001b[1;33m(\u001b[0m\u001b[0minfile\u001b[0m\u001b[1;33m)\u001b[0m\u001b[1;33m)\u001b[0m\u001b[1;33m\u001b[0m\u001b[1;33m\u001b[0m\u001b[0m\n",
      "\u001b[1;31mFileNotFoundError\u001b[0m: [Errno 2] No such file or directory: 'this.txt'"
     ]
    }
   ],
   "source": [
    "infile = open(\"this.txt\")\n",
    "print(infile, type(infile))\n",
    "print(iter(infile))\n",
    "infile.close()"
   ]
  },
  {
   "cell_type": "markdown",
   "metadata": {},
   "source": [
    "xrange was introduced in Python2.2\n",
    "\n",
    "*b = xrange(1000000)* \n",
    "\n",
    "*sys.getsizeof(b)* //The size is 40 bytes \n",
    "\n",
    "In earlier implementation of range, it used 8000072 bytes.\n",
    "\n",
    "###### xrange is categorized as a collection but it's not. Although it has an interator, it's not a collection and is implemented differently.\n",
    "\n",
    "We have *c=iter(b)* and we use *next(c)* to generate objects on demand.\n"
   ]
  },
  {
   "cell_type": "code",
   "execution_count": 90,
   "metadata": {},
   "outputs": [
    {
     "name": "stdout",
     "output_type": "stream",
     "text": [
      "('Hari', 'Deeptea', 'Ruby')\n"
     ]
    }
   ],
   "source": [
    "cst_noobs = 'Hari', 'Deeptea', 'Ruby'\n",
    "print(cst_noobs)"
   ]
  },
  {
   "cell_type": "code",
   "execution_count": 93,
   "metadata": {},
   "outputs": [
    {
     "name": "stdout",
     "output_type": "stream",
     "text": [
      "Hello Awesome Hari\n",
      "Hello Deeptea\n",
      "Hello Ruby\n"
     ]
    }
   ],
   "source": [
    "for u in cst_noobs:\n",
    "    if u == 'Hari':\n",
    "        print(\"Hello Awesome\",u)\n",
    "    else :\n",
    "        print(\"Hello\",u)"
   ]
  },
  {
   "cell_type": "code",
   "execution_count": 98,
   "metadata": {},
   "outputs": [],
   "source": [
    "scores = 99.1, 100, 99"
   ]
  },
  {
   "cell_type": "markdown",
   "metadata": {},
   "source": [
    "###### Whenever you are not sure what is there in a data structure, you can convert it into list and see"
   ]
  },
  {
   "cell_type": "code",
   "execution_count": 99,
   "metadata": {},
   "outputs": [
    {
     "data": {
      "text/plain": [
       "[('Hari', 99.1), ('Deeptea', 100), ('Ruby', 99)]"
      ]
     },
     "execution_count": 99,
     "metadata": {},
     "output_type": "execute_result"
    }
   ],
   "source": [
    "list(zip(cst_noobs, scores))"
   ]
  },
  {
   "cell_type": "code",
   "execution_count": 103,
   "metadata": {},
   "outputs": [
    {
     "name": "stdout",
     "output_type": "stream",
     "text": [
      "Hello Awesome Hari! You have scored 99.1!\n",
      "Hello Deeptea! You have scored 100!\n",
      "Hello Ruby! You have scored 99!\n"
     ]
    }
   ],
   "source": [
    "for u,s in zip(cst_noobs,scores):\n",
    "    if u == 'Hari':\n",
    "        print(\"Hello Awesome\",u, end=\"! \")\n",
    "    else :\n",
    "        print(\"Hello\",u,end=\"! \")\n",
    "    print(\"You have scored\", s,end =\"!\\n\")"
   ]
  },
  {
   "cell_type": "markdown",
   "metadata": {},
   "source": [
    "There is also something called as zip_longest"
   ]
  },
  {
   "cell_type": "code",
   "execution_count": 104,
   "metadata": {},
   "outputs": [],
   "source": [
    "from itertools import zip_longest as zip"
   ]
  },
  {
   "cell_type": "code",
   "execution_count": 105,
   "metadata": {},
   "outputs": [
    {
     "ename": "FileNotFoundError",
     "evalue": "[Errno 2] No such file or directory: 'this.txt'",
     "output_type": "error",
     "traceback": [
      "\u001b[1;31m---------------------------------------------------------------------------\u001b[0m",
      "\u001b[1;31mFileNotFoundError\u001b[0m                         Traceback (most recent call last)",
      "\u001b[1;32m<ipython-input-105-05e6fcc35671>\u001b[0m in \u001b[0;36m<module>\u001b[1;34m\u001b[0m\n\u001b[0;32m      1\u001b[0m \u001b[1;31m#opening the first 5 lines of a file\u001b[0m\u001b[1;33m\u001b[0m\u001b[1;33m\u001b[0m\u001b[1;33m\u001b[0m\u001b[0m\n\u001b[1;32m----> 2\u001b[1;33m \u001b[1;32mwith\u001b[0m \u001b[0mopen\u001b[0m\u001b[1;33m(\u001b[0m\u001b[1;34m\"this.txt\"\u001b[0m\u001b[1;33m)\u001b[0m \u001b[1;32mas\u001b[0m \u001b[0minfile\u001b[0m\u001b[1;33m:\u001b[0m\u001b[1;33m\u001b[0m\u001b[1;33m\u001b[0m\u001b[0m\n\u001b[0m\u001b[0;32m      3\u001b[0m     \u001b[1;32mfor\u001b[0m \u001b[0mi\u001b[0m\u001b[1;33m,\u001b[0m \u001b[0mline\u001b[0m \u001b[1;32min\u001b[0m \u001b[0mzip\u001b[0m\u001b[1;33m(\u001b[0m\u001b[0mrange\u001b[0m\u001b[1;33m(\u001b[0m\u001b[1;36m1\u001b[0m\u001b[1;33m,\u001b[0m\u001b[1;36m6\u001b[0m\u001b[1;33m)\u001b[0m\u001b[1;33m,\u001b[0m \u001b[0minfile\u001b[0m\u001b[1;33m)\u001b[0m\u001b[1;33m:\u001b[0m\u001b[1;33m\u001b[0m\u001b[1;33m\u001b[0m\u001b[0m\n\u001b[0;32m      4\u001b[0m         \u001b[0mprint\u001b[0m\u001b[1;33m(\u001b[0m\u001b[0mi\u001b[0m\u001b[1;33m,\u001b[0m\u001b[0mline\u001b[0m\u001b[1;33m)\u001b[0m\u001b[1;33m\u001b[0m\u001b[1;33m\u001b[0m\u001b[0m\n",
      "\u001b[1;31mFileNotFoundError\u001b[0m: [Errno 2] No such file or directory: 'this.txt'"
     ]
    }
   ],
   "source": [
    "#opening the first 5 lines of a file\n",
    "with open(\"this.txt\") as infile:\n",
    "    for i, line in zip(range(1,6), infile):\n",
    "        print(i,line)"
   ]
  },
  {
   "cell_type": "code",
   "execution_count": 107,
   "metadata": {},
   "outputs": [
    {
     "name": "stdout",
     "output_type": "stream",
     "text": [
      "1 Hari\n",
      "2 Deeptea\n",
      "3 Ruby\n"
     ]
    }
   ],
   "source": [
    "for i,n in enumerate(cst_noobs,1):\n",
    "    print(i,n)"
   ]
  },
  {
   "cell_type": "code",
   "execution_count": 108,
   "metadata": {},
   "outputs": [
    {
     "name": "stdout",
     "output_type": "stream",
     "text": [
      "Ruby\n",
      "Deeptea\n",
      "Hari\n"
     ]
    }
   ],
   "source": [
    "for u in reversed(cst_noobs):\n",
    "    print(u)"
   ]
  },
  {
   "cell_type": "code",
   "execution_count": 111,
   "metadata": {},
   "outputs": [
    {
     "name": "stdout",
     "output_type": "stream",
     "text": [
      "Ruby\n",
      "Deeptea\n",
      "Hari\n"
     ]
    }
   ],
   "source": [
    "r = reversed(cst_noobs)\n",
    "print(next(r))\n",
    "print(next(r))\n",
    "print(next(r))"
   ]
  },
  {
   "cell_type": "markdown",
   "metadata": {},
   "source": [
    "Commonly used iterable functions : range, zip, enumerate, sorted, reversed"
   ]
  },
  {
   "cell_type": "markdown",
   "metadata": {},
   "source": [
    "# HANDLING EXCEPTIONS"
   ]
  },
  {
   "cell_type": "code",
   "execution_count": 115,
   "metadata": {},
   "outputs": [
    {
     "name": "stdout",
     "output_type": "stream",
     "text": [
      "Enter value 1: 20\n",
      "Enter value 2: 0\n",
      "Caught an exception: e = division by zero <class 'ZeroDivisionError'>\n",
      "End of try block\n",
      "End of cell\n"
     ]
    }
   ],
   "source": [
    "try:\n",
    "    v1 = int(input(\"Enter value 1: \"))\n",
    "    v2 = int(input(\"Enter value 2: \"))\n",
    "    r = v1/v2\n",
    "except Exception as e:\n",
    "    print(\"Caught an exception: e =\", e, type(e))\n",
    "else:\n",
    "    print(\"r = \",r)\n",
    "finally:\n",
    "    print(\"End of try block\")\n",
    "\n",
    "print(\"End of cell\")"
   ]
  },
  {
   "cell_type": "markdown",
   "metadata": {},
   "source": [
    "In the last cell, we were generic. Now let's try to be more specific."
   ]
  },
  {
   "cell_type": "code",
   "execution_count": 117,
   "metadata": {},
   "outputs": [
    {
     "name": "stdout",
     "output_type": "stream",
     "text": [
      "Enter value 1: hari\n",
      "Input must be numeric\n",
      "End of try block\n",
      "End of cell\n"
     ]
    }
   ],
   "source": [
    "try:\n",
    "    v1 = int(input(\"Enter value 1: \"))\n",
    "    v2 = int(input(\"Enter value 2: \"))\n",
    "    r = v1/v2\n",
    "except ZeroDivisionError as e:\n",
    "    print(\"Value cannot be zero\")\n",
    "except ValueError as e:\n",
    "    print(\"Input must be numeric\")\n",
    "except Exception as e:\n",
    "    print(\"Caught an exception: e =\", e, type(e))\n",
    "else:\n",
    "    print(\"r = \",r)\n",
    "finally:\n",
    "    print(\"End of try block\")\n",
    "\n",
    "print(\"End of cell\")"
   ]
  },
  {
   "cell_type": "markdown",
   "metadata": {},
   "source": [
    "# END OF DAY 1"
   ]
  },
  {
   "cell_type": "markdown",
   "metadata": {},
   "source": [
    "# START OF DAY 2\n",
    "\n",
    "## MORNING SESSION"
   ]
  },
  {
   "cell_type": "markdown",
   "metadata": {},
   "source": [
    "#### Exercise 1\n",
    "\n",
    "Print the first 'n' fibonacci numbers"
   ]
  },
  {
   "cell_type": "code",
   "execution_count": 144,
   "metadata": {},
   "outputs": [],
   "source": [
    "\"\"\"\n",
    "Write a program to generate first 'n' fibonacci series\n",
    "\n",
    "Example usage:\n",
    "--------------\n",
    "    >>> fib(10)\n",
    "    0 1 1 2 3 5 8 13 21 34 \n",
    "\n",
    "    >>> fib(20)\n",
    "    0 1 1 2 3 5 8 13 21 34 55 89 144 233 377 610 987 1597 2584 4181 \n",
    "\"\"\"\n",
    "\n",
    "def fibo(n):\n",
    "    start = 1\n",
    "    second = -1\n",
    "    for i in range(n):\n",
    "        sum = start + second\n",
    "        second = start\n",
    "        start = sum\n",
    "        print(sum,end=\" \")\n",
    "        \n",
    "# Pythonic code\n",
    "\n",
    "def fib(n):\n",
    "    a,b = 0,1\n",
    "    for _ in range(n):\n",
    "        print(a,end=\" \")\n",
    "        a,b = b,a+b\n",
    "        \n",
    "        \n",
    "if __name__ == '__main__':\n",
    "    from doctest import testmod\n",
    "    testmod()\n",
    "\n",
    "    "
   ]
  },
  {
   "cell_type": "code",
   "execution_count": 121,
   "metadata": {},
   "outputs": [
    {
     "name": "stdout",
     "output_type": "stream",
     "text": [
      "0 1 1 2 3 "
     ]
    }
   ],
   "source": [
    "fibo(5)"
   ]
  },
  {
   "cell_type": "markdown",
   "metadata": {},
   "source": [
    "#### Exercise 2\n",
    "\n",
    "Print the HCF of two numbers"
   ]
  },
  {
   "cell_type": "code",
   "execution_count": 145,
   "metadata": {},
   "outputs": [],
   "source": [
    "def hcf(a,b):\n",
    "    if(b==0):\n",
    "        print(a)\n",
    "    elif(b>a):\n",
    "        hcf(b,a)\n",
    "    else:\n",
    "        hcf(b,a%b)\n",
    "        \n",
    "#never use recursion in Python. It is not built for recursion. It has a default recursion limit of 1000. \n",
    "\n",
    "def hcf1(a,b):\n",
    "    while b:\n",
    "        a, b = b, a%b\n",
    "    print(a)"
   ]
  },
  {
   "cell_type": "code",
   "execution_count": 146,
   "metadata": {},
   "outputs": [
    {
     "name": "stdout",
     "output_type": "stream",
     "text": [
      "6\n"
     ]
    }
   ],
   "source": [
    "hcf1(12,30)"
   ]
  },
  {
   "cell_type": "markdown",
   "metadata": {},
   "source": [
    "#### Exercise 3\n",
    "\n",
    "Print if a number is prime or not"
   ]
  },
  {
   "cell_type": "code",
   "execution_count": 139,
   "metadata": {},
   "outputs": [],
   "source": [
    "def isprime(n):\n",
    "    prime = True\n",
    "    for i in range(2,n-1):\n",
    "        if(n % i == 0):\n",
    "            prime = False\n",
    "    if(n<2):\n",
    "        prime = False\n",
    "    print(prime)"
   ]
  },
  {
   "cell_type": "code",
   "execution_count": 140,
   "metadata": {},
   "outputs": [
    {
     "name": "stdout",
     "output_type": "stream",
     "text": [
      "False\n"
     ]
    }
   ],
   "source": [
    "isprime(1)"
   ]
  },
  {
   "cell_type": "markdown",
   "metadata": {},
   "source": [
    "1) Check out pythontutor.com if we want to see how the flow of our code works.\n",
    "\n",
    "2) If we want to do it locally also, we can use a Python debugger - by using pdb which provides some functionalities to debug.\n",
    "\n",
    "3) To save a cell, use *%save file_name.py cell_number*\n",
    "\n",
    "4) IDEs like PyCharm or VSCode have graphical support for debugging. pudb3 is useful in Linux.\n",
    "\n"
   ]
  },
  {
   "cell_type": "markdown",
   "metadata": {},
   "source": [
    "## WORKING ON A NEW PROJECT\n",
    "\n",
    "1) Create a new folder for the project\n",
    "\n",
    "2) python -m venv .\n",
    "\n",
    "3) source bin/activate\n",
    "\n",
    "In Windows, bin/activate.bat\n",
    "\n",
    "4) pyinstaller will create a self contained binary installer from your python project. It can be sent to people who have no idea about Python and just need a clickable interface."
   ]
  },
  {
   "cell_type": "markdown",
   "metadata": {},
   "source": [
    "# DATA STRUCTURES\n",
    "\n",
    "1) Numbers are objects in Python. The operators are functions.\n",
    "\n",
    "##### Duck Typing\n",
    "\n",
    "\"When I see a bird that walks like a duck and swims like a duck and quacks like a duck, I call that bird a duck.\" - James Whitcomb Riley\n",
    "\n",
    "Complex numbers:"
   ]
  },
  {
   "cell_type": "code",
   "execution_count": 147,
   "metadata": {},
   "outputs": [
    {
     "name": "stdout",
     "output_type": "stream",
     "text": [
      "(4+7j)\n",
      "4.0 7.0 (4-7j)\n"
     ]
    }
   ],
   "source": [
    "a = 4 + 7j\n",
    "print(a)\n",
    "print(a.real, a.imag, a.conjugate())"
   ]
  },
  {
   "cell_type": "markdown",
   "metadata": {},
   "source": [
    "### ITERABLES\n",
    "\n",
    "Any object which responds to the for loop (can be iterated) (gives one element to the for loop each time)\n",
    "\n",
    "1. Sequence collections ->  an order exists\n",
    "    a. Buffers\n",
    "          bytes, bytearray, str\n",
    "    b. Reference sequences\n",
    "          tuple, list\n",
    "2. Set -> unordered collection of unique hashable objects\n",
    "\n",
    "    frozenset, set\n",
    "3. Mapping -> collection of unique hashable keys mapping to values (dictionary) (not gonna use the word unordered)\n",
    "    \n",
    "    dict\n",
    "    \n",
    "### FEATURES\n",
    "\n",
    "1) Subscriptability\n",
    "2) Concatenation\n",
    "3) Repeatability\n",
    "4) Searchability - in operator should work for all sequences\n",
    "\n",
    "\n",
    "###### Two essential functions that every collection must have:"
   ]
  },
  {
   "cell_type": "code",
   "execution_count": 152,
   "metadata": {},
   "outputs": [
    {
     "name": "stdout",
     "output_type": "stream",
     "text": [
      "True True True\n",
      "10 2 1\n",
      "4 1 1\n"
     ]
    }
   ],
   "source": [
    "a = \"this is a test string test with test some test words\"\n",
    "b = [33, 44, 55, 77, 22, 11]\n",
    "c = [33, 44, 99, 88, 55, 77, 22, 66, 11]\n",
    "\n",
    "print(\"test\" in a, 55 in b, 33 in c)\n",
    "\n",
    "print(a.index(\"test\"), b.index(55), c.index(44))\n",
    "print(a.count(\"test\"), b.count(55), c.count(44))\n",
    "\n"
   ]
  },
  {
   "cell_type": "code",
   "execution_count": 154,
   "metadata": {},
   "outputs": [
    {
     "name": "stdout",
     "output_type": "stream",
     "text": [
      "t\n",
      "s\n"
     ]
    }
   ],
   "source": [
    "# Positive and Negative indices\n",
    "print(a[0])\n",
    "print(a[-1])"
   ]
  },
  {
   "cell_type": "code",
   "execution_count": 157,
   "metadata": {},
   "outputs": [
    {
     "name": "stdout",
     "output_type": "stream",
     "text": [
      "test strin\n",
      "this is a test string test with test some test words\n",
      "this \n",
      "words\n",
      "is a test string test with test some test words\n"
     ]
    }
   ],
   "source": [
    "print(a[10:20])\n",
    "#20 is not inclusive\n",
    "print(a)\n",
    "print(a[:5])\n",
    "print(a[-5:])\n",
    "print(a[5:])"
   ]
  },
  {
   "cell_type": "code",
   "execution_count": 158,
   "metadata": {},
   "outputs": [
    {
     "name": "stdout",
     "output_type": "stream",
     "text": [
      "[10, 20, 30, 40] 2322954860936\n",
      "[10, 20, 30, 40] 2322954842376\n"
     ]
    }
   ],
   "source": [
    "a = [10, 20, 30, 40]\n",
    "b = a[:]\n",
    "print(a, id(a))\n",
    "print(b, id(b))"
   ]
  },
  {
   "cell_type": "code",
   "execution_count": 163,
   "metadata": {},
   "outputs": [
    {
     "name": "stdout",
     "output_type": "stream",
     "text": [
      "[0, 1, 2, 3, 4, 5, 6, 7, 8, 9, 10, 11, 12, 13, 14, 15, 16, 17, 18, 19, 20, 21, 22, 23, 24, 25, 26, 27, 28, 29, 30, 31, 32, 33, 34, 35, 36, 37, 38, 39, 40, 41, 42, 43, 44, 45, 46, 47, 48, 49, 50, 51, 52, 53, 54, 55, 56, 57, 58, 59, 60, 61, 62, 63, 64, 65, 66, 67, 68, 69, 70, 71, 72, 73, 74, 75, 76, 77, 78, 79, 80, 81, 82, 83, 84, 85, 86, 87, 88, 89, 90, 91, 92, 93, 94, 95, 96, 97, 98, 99]\n",
      "[10, 11, 12, 13, 14, 15, 16, 17, 18, 19, 20, 21, 22, 23, 24, 25, 26, 27, 28, 29]\n",
      "[10, 12, 14, 16, 18, 20, 22, 24, 26, 28]\n",
      "[]\n",
      "[30, 29, 28, 27, 26, 25, 24, 23, 22, 21, 20, 19, 18, 17, 16, 15, 14, 13, 12, 11]\n"
     ]
    }
   ],
   "source": [
    "#we can always construct a list from a range object\n",
    "a = list(range(100))\n",
    "print(a)\n",
    "print(a[10:30])\n",
    "print(a[10:30:2])\n",
    "print(a[10:30:-1])\n",
    "\n",
    "print(a[30:10:-1])"
   ]
  },
  {
   "cell_type": "code",
   "execution_count": 164,
   "metadata": {},
   "outputs": [
    {
     "name": "stdout",
     "output_type": "stream",
     "text": [
      "hello world\n",
      "dlrow olleh\n"
     ]
    }
   ],
   "source": [
    "a = \"hello world\"\n",
    "b = a[::-1]\n",
    "print(a)\n",
    "print(b)"
   ]
  },
  {
   "cell_type": "code",
   "execution_count": 165,
   "metadata": {},
   "outputs": [
    {
     "data": {
      "text/plain": [
       "True"
      ]
     },
     "execution_count": 165,
     "metadata": {},
     "output_type": "execute_result"
    }
   ],
   "source": [
    "a = \"malayalam\"\n",
    "a == a[::-1]"
   ]
  },
  {
   "cell_type": "code",
   "execution_count": 167,
   "metadata": {},
   "outputs": [
    {
     "ename": "TypeError",
     "evalue": "'str' object does not support item assignment",
     "output_type": "error",
     "traceback": [
      "\u001b[1;31m---------------------------------------------------------------------------\u001b[0m",
      "\u001b[1;31mTypeError\u001b[0m                                 Traceback (most recent call last)",
      "\u001b[1;32m<ipython-input-167-b457ae4bba72>\u001b[0m in \u001b[0;36m<module>\u001b[1;34m\u001b[0m\n\u001b[0;32m      1\u001b[0m \u001b[1;31m#String are immutable\u001b[0m\u001b[1;33m\u001b[0m\u001b[1;33m\u001b[0m\u001b[1;33m\u001b[0m\u001b[0m\n\u001b[0;32m      2\u001b[0m \u001b[0ma\u001b[0m \u001b[1;33m=\u001b[0m \u001b[1;34m\"hello\"\u001b[0m\u001b[1;33m\u001b[0m\u001b[1;33m\u001b[0m\u001b[0m\n\u001b[1;32m----> 3\u001b[1;33m \u001b[0ma\u001b[0m\u001b[1;33m[\u001b[0m\u001b[1;36m0\u001b[0m\u001b[1;33m]\u001b[0m \u001b[1;33m=\u001b[0m \u001b[1;34m'H'\u001b[0m\u001b[1;33m\u001b[0m\u001b[1;33m\u001b[0m\u001b[0m\n\u001b[0m\u001b[0;32m      4\u001b[0m \u001b[1;33m\u001b[0m\u001b[0m\n\u001b[0;32m      5\u001b[0m \u001b[1;31m#Strings need not be mutable. Their application doesn't require it.\u001b[0m\u001b[1;33m\u001b[0m\u001b[1;33m\u001b[0m\u001b[1;33m\u001b[0m\u001b[0m\n",
      "\u001b[1;31mTypeError\u001b[0m: 'str' object does not support item assignment"
     ]
    }
   ],
   "source": [
    "#String are immutable\n",
    "a = \"hello\"\n",
    "a[0] = 'H'\n",
    "\n",
    "#Strings need not be mutable. Their application doesn't require it."
   ]
  },
  {
   "cell_type": "code",
   "execution_count": 172,
   "metadata": {},
   "outputs": [
    {
     "name": "stdout",
     "output_type": "stream",
     "text": [
      "Hello அ\n"
     ]
    }
   ],
   "source": [
    "a = \"Hello \\u0B85\"\n",
    "print(a)"
   ]
  },
  {
   "cell_type": "markdown",
   "metadata": {},
   "source": [
    "Major difference between py2 and py3 is the way strings are treated. In python2, they were a sequence of bytes. In py3, the equivalent of a char array is a byte object."
   ]
  },
  {
   "cell_type": "code",
   "execution_count": 174,
   "metadata": {},
   "outputs": [
    {
     "name": "stdout",
     "output_type": "stream",
     "text": [
      "b'Hello \\\\u0B85' <class 'bytes'>\n"
     ]
    }
   ],
   "source": [
    "a = b\"Hello \\u0B85\"\n",
    "print(a, type(a))"
   ]
  },
  {
   "cell_type": "code",
   "execution_count": 178,
   "metadata": {},
   "outputs": [
    {
     "name": "stdout",
     "output_type": "stream",
     "text": [
      "72\n",
      "bytearray(b'Allo world')\n",
      "bytearray(b'world')\n",
      "bytearray(b'worldnew')\n",
      "bytearray(b'worldnhariiii')\n"
     ]
    }
   ],
   "source": [
    "#bytearray is an mutable version of bytes and can replace it in all occasions :p\n",
    "a = bytearray(b\"Hello world\")\n",
    "print(a[0])\n",
    "a[0] = 65\n",
    "del a[1]\n",
    "print(a)\n",
    "del a[:5]\n",
    "print(a)\n",
    "\n",
    "a[5:5] = b\"new\"\n",
    "print(a)\n",
    "a[6:9] = b\"hariiii\"\n",
    "print(a)"
   ]
  },
  {
   "cell_type": "code",
   "execution_count": 176,
   "metadata": {},
   "outputs": [
    {
     "name": "stdout",
     "output_type": "stream",
     "text": [
      "(10, 'Hello', [30, 40, 50], False)\n"
     ]
    }
   ],
   "source": [
    "a = 10, \"Hello\", [30, 40, 50], False\n",
    "print(a)"
   ]
  },
  {
   "cell_type": "markdown",
   "metadata": {},
   "source": [
    "Lists are mutable. Lists in tuples are mutable."
   ]
  },
  {
   "cell_type": "markdown",
   "metadata": {},
   "source": [
    "## STRING RELATED FEATURES\n",
    "\n",
    "1) No difference between two single quotes and double quotes in Python\n"
   ]
  },
  {
   "cell_type": "code",
   "execution_count": 185,
   "metadata": {},
   "outputs": [
    {
     "name": "stdout",
     "output_type": "stream",
     "text": [
      "I'll be back here\n",
      "He said 'Python is greaat mann'\n",
      "He said \"I'll be back\" and I was waiting\n",
      " \"\"\"He said \"I'll be back\" and I was waiting\"\"\" \n"
     ]
    }
   ],
   "source": [
    "a = \"hari\"\n",
    "a = 'hari'\n",
    "\n",
    "#used for convenience\n",
    "\n",
    "a = \"I'll be back here\"\n",
    "print(a)\n",
    "\n",
    "b = \"He said 'Python is greaat mann'\"\n",
    "print(b)\n",
    "\n",
    "#triple quoted strings can also be used for paragraphs\n",
    "c = \"\"\"He said \"I'll be back\" and I was waiting\"\"\"\n",
    "print(c)\n",
    "\n",
    "d = ''' \"\"\"He said \"I'll be back\" and I was waiting\"\"\" '''\n",
    "print(d)"
   ]
  },
  {
   "cell_type": "code",
   "execution_count": 192,
   "metadata": {},
   "outputs": [
    {
     "name": "stdout",
     "output_type": "stream",
     "text": [
      "C:\backup\temp\n",
      "ew\\workspace\n",
      "C:\\backup\\temp\\new\\workspace\n"
     ]
    },
    {
     "data": {
      "text/plain": [
       "'C:\\\\backup\\\\temp\\\\new\\\\workspace'"
      ]
     },
     "execution_count": 192,
     "metadata": {},
     "output_type": "execute_result"
    }
   ],
   "source": [
    "install_path = \"C:\\backup\\temp\\new\\workspace\"\n",
    "print(install_path)\n",
    "\n",
    "#What is the workaround for this?\n",
    "#Python provides a special operator called raw string operator\n",
    "#Backslashes are replaced with double backslashes\n",
    "\n",
    "install_path = r\"C:\\backup\\temp\\new\\workspace\"\n",
    "print(install_path)\n",
    "\n",
    "#useful while working with regular expressions\n",
    "install_path"
   ]
  },
  {
   "cell_type": "markdown",
   "metadata": {},
   "source": [
    "## MOST COMMMON METHODS IN STRINGS\n",
    "\n"
   ]
  },
  {
   "cell_type": "code",
   "execution_count": 201,
   "metadata": {},
   "outputs": [],
   "source": [
    "a = \"tHis is a test is a SIMple tESt sTRinG with repeated test words\"\n"
   ]
  },
  {
   "cell_type": "code",
   "execution_count": 202,
   "metadata": {},
   "outputs": [
    {
     "name": "stdout",
     "output_type": "stream",
     "text": [
      "THIS IS A TEST IS A SIMPLE TEST STRING WITH REPEATED TEST WORDS\n",
      "this is a test is a simple test string with repeated test words\n",
      "This Is A Test Is A Simple Test String With Repeated Test Words\n",
      "This is a test is a simple test string with repeated test words\n",
      "ThIS IS A TEST IS A simPLE TesT StrINg WITH REPEATED TEST WORDS\n"
     ]
    }
   ],
   "source": [
    "print(a.upper())\n",
    "print(a.lower())\n",
    "print(a.title())\n",
    "print(a.capitalize())\n",
    "print(a.swapcase())"
   ]
  },
  {
   "cell_type": "code",
   "execution_count": 205,
   "metadata": {
    "scrolled": true
   },
   "outputs": [
    {
     "name": "stdout",
     "output_type": "stream",
     "text": [
      "True\n",
      "True\n",
      "True\n",
      "True\n",
      "True\n"
     ]
    }
   ],
   "source": [
    "print(a.startswith(\"tHis\"))\n",
    "print(a.endswith(\"words\"))\n",
    "print(\"tESt\" in a)\n",
    "word = \"this\"\n",
    "\n",
    "print(a[:len(word)].lower().startswith(word.lower()))\n",
    "#this is not a pythonic way\n",
    "\n",
    "start = a[:len(word)]\n",
    "print(start.lower() == word.lower())"
   ]
  },
  {
   "cell_type": "code",
   "execution_count": 210,
   "metadata": {},
   "outputs": [
    {
     "data": {
      "text/plain": [
       "['this ', '', '', '', ' is']"
      ]
     },
     "execution_count": 210,
     "metadata": {},
     "output_type": "execute_result"
    }
   ],
   "source": [
    "a = \"this aaaa is\"\n",
    "a.split(\"a\")"
   ]
  },
  {
   "cell_type": "code",
   "execution_count": 212,
   "metadata": {},
   "outputs": [
    {
     "name": "stdout",
     "output_type": "stream",
     "text": [
      "Hari, Deeptea, Ruby\n"
     ]
    }
   ],
   "source": [
    "cst = \", \".join(cst_noobs)\n",
    "print(cst)"
   ]
  },
  {
   "cell_type": "code",
   "execution_count": 213,
   "metadata": {},
   "outputs": [
    {
     "data": {
      "text/plain": [
       "('this is a test         \\n \\r\\t',\n",
       " '          this is a test',\n",
       " 'this is a test')"
      ]
     },
     "execution_count": 213,
     "metadata": {},
     "output_type": "execute_result"
    }
   ],
   "source": [
    "a = \"          this is a test         \\n \\r\\t\"\n",
    "a.lstrip(), a.rstrip(), a.strip()"
   ]
  },
  {
   "cell_type": "markdown",
   "metadata": {},
   "source": [
    "## The format operator"
   ]
  },
  {
   "cell_type": "code",
   "execution_count": 225,
   "metadata": {},
   "outputs": [
    {
     "name": "stdout",
     "output_type": "stream",
     "text": [
      "Hello Hari      , your score is 99   \n",
      "Hello Deeptea   , your score is 100  \n",
      "Hello Ruby      , your score is 99   \n",
      "-----------------------------------\n",
      "Hello    Hari   , your score is 99.1\n",
      "Hello  Deeptea  , your score is 100\n",
      "Hello    Ruby   , your score is 99\n"
     ]
    }
   ],
   "source": [
    "#Don't use this\n",
    "#But we are learning because existing legacy code might be using it\n",
    "\n",
    "output = \"Hello %-10s, your score is %-5d\"\n",
    "for name,score in zip(cst_noobs,scores):\n",
    "    print( output % (name,score))\n",
    "    \n",
    "#Python 3 has string format because it is more elegant\n",
    "print(\"-\"*35)\n",
    "output = \"Hello {:^10s}, your score is {}\"\n",
    "for name,score in zip(cst_noobs,scores):\n",
    "    print( output.format(name,score))  "
   ]
  },
  {
   "cell_type": "code",
   "execution_count": 224,
   "metadata": {},
   "outputs": [
    {
     "name": "stdout",
     "output_type": "stream",
     "text": [
      "\n",
      "Hello John Cena, Welcome to Chennai, John Cena.\n",
      "\n",
      "Chennai is a nice place to stay.\n",
      "See you around, John Cena.\n",
      "\n",
      "-----------------------------------\n",
      "\n",
      "Hello John Cena , Welcome to Chennai, John Cena.\n",
      "\n",
      "Chennai is a nice place to stay.\n",
      "See you around, John Cena.\n",
      "\n"
     ]
    }
   ],
   "source": [
    "msg = \"\"\"\n",
    "Hello {0}, Welcome to {1}, {0}.\n",
    "\n",
    "{1} is a nice place to stay.\n",
    "See you around, {0}.\n",
    "\"\"\"\n",
    "print(msg.format(\"John Cena\", \"Chennai\"))\n",
    "\n",
    "#even better version\n",
    "print(\"-\"*35)\n",
    "msg = \"\"\"\n",
    "Hello {guest}, Welcome to {city}, {guest}.\n",
    "\n",
    "{city} is a nice place to stay.\n",
    "See you around, {guest}.\n",
    "\"\"\"\n",
    "print(msg.format(guest=\"John Cena\", city=\"Chennai\"))\n"
   ]
  },
  {
   "cell_type": "code",
   "execution_count": 227,
   "metadata": {},
   "outputs": [
    {
     "data": {
      "text/plain": [
       "'Decimal: 100, Hex: 64, Oct: 144, Bin: 1100100'"
      ]
     },
     "execution_count": 227,
     "metadata": {},
     "output_type": "execute_result"
    }
   ],
   "source": [
    "a  = \"Decimal: {0:d}, Hex: {0:x}, Oct: {0:o}, Bin: {0:b}\"\n",
    "a.format(100)"
   ]
  },
  {
   "cell_type": "markdown",
   "metadata": {},
   "source": [
    "### Finish the python tutorial in docs.python.org\n",
    "\n",
    "###### You can say that you know Python only when you complete the tutorial there "
   ]
  },
  {
   "cell_type": "code",
   "execution_count": 237,
   "metadata": {},
   "outputs": [
    {
     "name": "stdout",
     "output_type": "stream",
     "text": [
      "['__add__', '__class__', '__contains__', '__delattr__', '__dir__', '__doc__', '__eq__', '__format__', '__ge__', '__getattribute__', '__getitem__', '__getnewargs__', '__gt__', '__hash__', '__init__', '__init_subclass__', '__iter__', '__le__', '__len__', '__lt__', '__mul__', '__ne__', '__new__', '__reduce__', '__reduce_ex__', '__repr__', '__rmul__', '__setattr__', '__sizeof__', '__str__', '__subclasshook__', 'count', 'index']\n"
     ]
    },
    {
     "data": {
      "text/plain": [
       "2"
      ]
     },
     "execution_count": 237,
     "metadata": {},
     "output_type": "execute_result"
    }
   ],
   "source": [
    "a = (10, 20, 30)\n",
    "print(dir(a))\n",
    "a.count(10)\n",
    "a.index(30)"
   ]
  },
  {
   "cell_type": "code",
   "execution_count": 239,
   "metadata": {},
   "outputs": [
    {
     "name": "stdout",
     "output_type": "stream",
     "text": [
      "[10, 22, 55, 432, 65, 95]\n",
      "[10, 22, 55, 432, 65, 95, 100]\n",
      "[10, 22, 222, 55, 432, 65, 95, 100]\n",
      "[10, 22, 222, 55, 432, 65, 95]\n",
      "[10, 22, 55, 432, 65, 95] 222\n",
      "[10, 22, 432, 65, 95]\n"
     ]
    }
   ],
   "source": [
    "a = [10, 22, 55, 432, 65, 95]\n",
    "print(a)\n",
    "a.append(100)\n",
    "print(a)\n",
    "a.insert(2,222)\n",
    "print(a)\n",
    "a.pop()\n",
    "print(a)\n",
    "v = a.pop(2)\n",
    "print(a, v)\n",
    "\n",
    "#del is an statement while pop is an expression\n",
    "\n",
    "a.remove(55)\n",
    "print(a)"
   ]
  },
  {
   "cell_type": "code",
   "execution_count": 243,
   "metadata": {},
   "outputs": [
    {
     "name": "stdout",
     "output_type": "stream",
     "text": [
      "6\n",
      "[40, 50, 60, 10, 20, 30]\n",
      "9\n",
      "[40, 50, 60, 10, 20, 30, 10, 20, 30]\n",
      "4\n",
      "[10, 20, 30, [40, 50, 60, 10, 20, 30, 10, 20, 30]]\n"
     ]
    }
   ],
   "source": [
    "a = [10, 20, 30]\n",
    "b = [40, 50, 60]\n",
    "\n",
    "b+=a\n",
    "print(len(b))\n",
    "print(b)\n",
    "\n",
    "b.extend(a)\n",
    "print(len(b))\n",
    "print(b)\n",
    "\n",
    "a.append(b)\n",
    "print(len(a))\n",
    "print(a)\n",
    "\n",
    "#the argument passed to += or extend need not only be a list.. it can be any iterable object"
   ]
  },
  {
   "cell_type": "code",
   "execution_count": null,
   "metadata": {},
   "outputs": [],
   "source": [
    "# %load https://www.tinyurl.com/findall-ex\n",
    "\"\"\"\n",
    "Implement the findall() function below that should return\n",
    "a list of indices all occurrence of a substring found in \n",
    "a string (both passed as arguments to the function).\n",
    "\n",
    "Example usage:\n",
    "--------------\n",
    "   >>> quote = '''\n",
    "   ... When I see a bird\n",
    "   ... that walks like a duck\n",
    "   ... and swims like a duck\n",
    "   ... and quacks like a duck,\n",
    "   ... I call that bird a duck\n",
    "   ... '''\n",
    "\n",
    "   >>> findall(quote, \"duck\")\n",
    "   [37, 59, 82, 107]\n",
    "\n",
    "\"\"\"\n",
    "\n",
    "def findall(main_string, sub_string):\n",
    "    \"\"\"\n",
    "    Returns a list of indices of each occurrence of\n",
    "    sub_string in main_string\n",
    "\n",
    "    Example usage:\n",
    "    --------------\n",
    "        >>> poem = '''\n",
    "        ... A fly and flea flew into a flue,\n",
    "        ... said the fly to the flea 'what shall we do ?'\n",
    "        ... 'let us fly' said the flea\n",
    "        ... and said the fly 'let us flee'\n",
    "        ... and so they flew through a flaw in the the flue.\n",
    "        ... '''\n",
    "\n",
    "        >>> findall(poem, 'fly')\n",
    "        [3, 43, 88, 120]\n",
    "\n",
    "    \"\"\"\n",
    "    indices = []\n",
    "    pass # TODO: Implement the logic here!\n",
    "    return indices\n",
    "\n",
    "if __name__ == '__main__':\n",
    "    import doctest\n",
    "    doctest.testmod()\n",
    "    # Running this program using 'python3 findall.py' should\n",
    "    # ideally pass all tests in the doctest - on implementation\n",
    "    # of findall() function\n",
    "\n"
   ]
  },
  {
   "cell_type": "code",
   "execution_count": 247,
   "metadata": {},
   "outputs": [
    {
     "name": "stdout",
     "output_type": "stream",
     "text": [
      "(10, 20, 30)\n",
      "[10, 20, 30]\n",
      "(10, 20, 30)\n",
      "('h', 'e', 'l', 'l', 'o')\n",
      "['h', 'e', 'l', 'l', 'o']\n",
      "g =  ['h', 'e', 'l', 'l', 'o']\n",
      "hello\n"
     ]
    }
   ],
   "source": [
    "a = 10, 20, 30\n",
    "print(a)\n",
    "\n",
    "b = list(a)\n",
    "print(b)\n",
    "\n",
    "c=tuple(b)\n",
    "print(c)\n",
    "\n",
    "d=\"hello\"\n",
    "e=tuple(d)\n",
    "print(e)\n",
    "\n",
    "f=list(d)\n",
    "print(f)\n",
    "\n",
    "g=str(f)\n",
    "print(\"g = \", g)\n",
    "\n",
    "h = \"\".join(f)\n",
    "print(h)"
   ]
  },
  {
   "cell_type": "code",
   "execution_count": 249,
   "metadata": {},
   "outputs": [
    {
     "name": "stdout",
     "output_type": "stream",
     "text": [
      "[133, 4, 25]\n"
     ]
    },
    {
     "ename": "TypeError",
     "evalue": "'NoneType' object is not iterable",
     "output_type": "error",
     "traceback": [
      "\u001b[1;31m---------------------------------------------------------------------------\u001b[0m",
      "\u001b[1;31mTypeError\u001b[0m                                 Traceback (most recent call last)",
      "\u001b[1;32m<ipython-input-249-5cd3ce1fc6a0>\u001b[0m in \u001b[0;36m<module>\u001b[1;34m\u001b[0m\n\u001b[0;32m      6\u001b[0m \u001b[1;33m\u001b[0m\u001b[0m\n\u001b[0;32m      7\u001b[0m \u001b[1;31m#hence the below code fill fail\u001b[0m\u001b[1;33m\u001b[0m\u001b[1;33m\u001b[0m\u001b[1;33m\u001b[0m\u001b[0m\n\u001b[1;32m----> 8\u001b[1;33m \u001b[1;32mfor\u001b[0m \u001b[0mv\u001b[0m \u001b[1;32min\u001b[0m \u001b[0ma\u001b[0m\u001b[1;33m.\u001b[0m\u001b[0mreverse\u001b[0m\u001b[1;33m(\u001b[0m\u001b[1;33m)\u001b[0m\u001b[1;33m:\u001b[0m\u001b[1;33m\u001b[0m\u001b[1;33m\u001b[0m\u001b[0m\n\u001b[0m\u001b[0;32m      9\u001b[0m     \u001b[0mprint\u001b[0m\u001b[1;33m(\u001b[0m\u001b[0mv\u001b[0m\u001b[1;33m)\u001b[0m\u001b[1;33m\u001b[0m\u001b[1;33m\u001b[0m\u001b[0m\n\u001b[0;32m     10\u001b[0m \u001b[1;33m\u001b[0m\u001b[0m\n",
      "\u001b[1;31mTypeError\u001b[0m: 'NoneType' object is not iterable"
     ]
    }
   ],
   "source": [
    "a = [133, 4, 25]\n",
    "print(a)\n",
    "\n",
    "#reverses in place\n",
    "a.reverse()\n",
    "\n",
    "#hence the below code fill fail\n",
    "for v in a.reverse():\n",
    "    print(v)\n",
    "\n",
    "print(a)"
   ]
  },
  {
   "cell_type": "markdown",
   "metadata": {},
   "source": [
    "reversed(a) will return an iterator to the list"
   ]
  },
  {
   "cell_type": "code",
   "execution_count": 250,
   "metadata": {},
   "outputs": [
    {
     "name": "stdout",
     "output_type": "stream",
     "text": [
      "[25, 4, 133]\n",
      "None\n"
     ]
    }
   ],
   "source": [
    "b = a.reverse()\n",
    "\n",
    "print(a)\n",
    "print(b)"
   ]
  },
  {
   "cell_type": "code",
   "execution_count": 252,
   "metadata": {},
   "outputs": [
    {
     "data": {
      "text/plain": [
       "[5, 23, 44, 78, 133]"
      ]
     },
     "execution_count": 252,
     "metadata": {},
     "output_type": "execute_result"
    }
   ],
   "source": [
    "a = [133, 44, 5, 23, 78]\n",
    "b=a.sort()\n",
    "#does it in-place\n",
    "\n",
    "sorted(a)\n",
    "#returns sorted iterator"
   ]
  },
  {
   "cell_type": "code",
   "execution_count": 254,
   "metadata": {},
   "outputs": [],
   "source": [
    "#to clear a list\n",
    "a.clear()\n",
    "\n",
    "#in Python 2, they did *del a[:]*"
   ]
  },
  {
   "cell_type": "code",
   "execution_count": 256,
   "metadata": {},
   "outputs": [
    {
     "name": "stdout",
     "output_type": "stream",
     "text": [
      "[100, 55, 66, 77]\n",
      "[44, 55, 66, 77]\n"
     ]
    }
   ],
   "source": [
    "a = [44, 55, 66, 77]\n",
    "b = a[:] # Python 2\n",
    "b = list(a) # Also works\n",
    "b = a.copy()\n",
    "\n",
    "#this copy is also called as a shallow copy\n",
    "a[0] = 100\n",
    "print(a)\n",
    "print(b)"
   ]
  },
  {
   "cell_type": "code",
   "execution_count": 260,
   "metadata": {},
   "outputs": [
    {
     "name": "stdout",
     "output_type": "stream",
     "text": [
      "[100, [20, 30], 40]\n",
      "[100, [20, 30], 40]\n",
      "[10, [20, 30], 40]\n",
      "[100, [200, 30], 40]\n",
      "[100, [200, 30], 40]\n",
      "[10, [200, 30], 40]\n"
     ]
    }
   ],
   "source": [
    "a = [10, [20, 30], 40]\n",
    "b = a\n",
    "c = a.copy()\n",
    "\n",
    "a[0]= 100\n",
    "print(a,b,c,sep=\"\\n\")\n",
    "\n",
    "a[1][0] = 200\n",
    "print(a,b,c,sep=\"\\n\")\n",
    "\n",
    "#these are two of shallow copy\n",
    "\n",
    "#to do deep copy, we use:\n",
    "from copy import deepcopy\n",
    "c = deepcopy(a)"
   ]
  },
  {
   "cell_type": "code",
   "execution_count": 261,
   "metadata": {},
   "outputs": [
    {
     "name": "stdout",
     "output_type": "stream",
     "text": [
      "151 ns ± 4.46 ns per loop (mean ± std. dev. of 7 runs, 10000000 loops each)\n"
     ]
    }
   ],
   "source": [
    "%timeit 999 in a"
   ]
  },
  {
   "cell_type": "code",
   "execution_count": 264,
   "metadata": {},
   "outputs": [
    {
     "data": {
      "text/plain": [
       "[10, 20, 25, 30]"
      ]
     },
     "execution_count": 264,
     "metadata": {},
     "output_type": "execute_result"
    }
   ],
   "source": [
    "#some expressions expect an iterable object\n",
    "\n",
    "a = [10, 20, 30]\n",
    "#I have to insert 25 in between 20 and 30\n",
    "\n",
    "a[2:2] = 25,\n",
    "\n",
    "a"
   ]
  },
  {
   "cell_type": "code",
   "execution_count": 265,
   "metadata": {},
   "outputs": [
    {
     "name": "stdout",
     "output_type": "stream",
     "text": [
      "Guest,Place\n"
     ]
    }
   ],
   "source": [
    "def greet(name = \"Guest\", place = \"Place\"):\n",
    "    print(f\"{name},{place}\")\n",
    "    \n",
    "greet()"
   ]
  },
  {
   "cell_type": "code",
   "execution_count": 266,
   "metadata": {},
   "outputs": [
    {
     "name": "stdout",
     "output_type": "stream",
     "text": [
      "('hari',)\n",
      "('hari', 'kavya', 'carmine')\n"
     ]
    }
   ],
   "source": [
    "def greet(*users):\n",
    "    print(users)\n",
    "    \n",
    "greet(\"hari\")\n",
    "greet(\"hari\", \"kavya\", \"carmine\")"
   ]
  },
  {
   "cell_type": "code",
   "execution_count": null,
   "metadata": {},
   "outputs": [],
   "source": []
  }
 ],
 "metadata": {
  "kernelspec": {
   "display_name": "Python 3",
   "language": "python",
   "name": "python3"
  },
  "language_info": {
   "codemirror_mode": {
    "name": "ipython",
    "version": 3
   },
   "file_extension": ".py",
   "mimetype": "text/x-python",
   "name": "python",
   "nbconvert_exporter": "python",
   "pygments_lexer": "ipython3",
   "version": "3.7.3"
  }
 },
 "nbformat": 4,
 "nbformat_minor": 2
}
